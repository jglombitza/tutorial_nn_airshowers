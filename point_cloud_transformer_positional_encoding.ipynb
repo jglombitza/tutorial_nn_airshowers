{
  "nbformat": 4,
  "nbformat_minor": 0,
  "metadata": {
    "kernelspec": {
      "display_name": "Python 3",
      "name": "python3"
    },
    "language_info": {
      "codemirror_mode": {
        "name": "ipython",
        "version": 3
      },
      "file_extension": ".py",
      "mimetype": "text/x-python",
      "name": "python",
      "nbconvert_exporter": "python",
      "pygments_lexer": "ipython3",
      "version": "3.6.9"
    },
    "colab": {
      "provenance": [],
      "gpuType": "V28",
      "include_colab_link": true
    },
    "accelerator": "TPU"
  },
  "cells": [
    {
      "cell_type": "markdown",
      "metadata": {
        "id": "view-in-github",
        "colab_type": "text"
      },
      "source": [
        "<a href=\"https://colab.research.google.com/github/jglombitza/tutorial_nn_airshowers/blob/solutions/point_cloud_transformer_positional_encoding.ipynb\" target=\"_parent\"><img src=\"https://colab.research.google.com/assets/colab-badge.svg\" alt=\"Open In Colab\"/></a>"
      ]
    },
    {
      "cell_type": "markdown",
      "metadata": {
        "id": "zhevd7m4MEoT"
      },
      "source": [
        "# Air-shower reconstruction using a convolutional point cloud transformer\n",
        "## Cosmic-ray observatory\n",
        "In this example, we will train a neural network to reconstruct air-shower properties measured by a hypothetic cosmic-ray observatory located at a height of 1400 m. The observatory features a cartesian array of 14 x 14 particle detectors with a distance of 750 m.\n",
        "Thus, the measured data contain the simulated detector responses from secondary particles of the cosmic-ray induced air shower that interact with the ground-based observatory.  \n",
        "\n",
        "Each particle detector measures two quantities that are stored in the form of a cartesian image (2D array with 14 x 14 pixels)\n",
        "- arrival time `T`: arrival time of the first particles\n",
        "- signal `S`: integrated signal\n",
        "\n",
        "To make use of an efficient point cloud transformer\n",
        "- we use only the triggered stations per event\n",
        "\n",
        "In this task, we are interested in reconstructing the cosmic-ray energy in EeV (exaelectronvolt = $10^{18}~\\mathrm{eV}$) using the measured particle footprint and a convolutional neural network.\n",
        "\n",
        "\n",
        "# Preparation:\n",
        "**Enable a GPU for this task.**  \n",
        "Therefore, click:\n",
        "*Edit* -> *Notebook settings* -> *select GPU* as *Hardware accelerator*\n",
        "\n",
        "# References\n",
        "The tutorial is inspired by the simulation and the study performed in https://doi.org/10.1016/j.astropartphys.2017.10.006.  \n",
        "\n",
        "For more examples, see www.deeplearningphysics.org."
      ]
    },
    {
      "cell_type": "code",
      "metadata": {
        "id": "dc1W4fDQMEoZ",
        "colab": {
          "base_uri": "https://localhost:8080/"
        },
        "outputId": "024fc32c-932d-4954-fba5-d59e882edebf"
      },
      "source": [
        "import tensorflow as tf\n",
        "from tensorflow import keras\n",
        "import numpy as np\n",
        "import seaborn as sns\n",
        "from matplotlib import pyplot as plt\n",
        "\n",
        "layers = keras.layers\n",
        "\n",
        "print(\"keras\", keras)\n",
        "print(\"tf\", tf.__version__)\n"
      ],
      "execution_count": 34,
      "outputs": [
        {
          "output_type": "stream",
          "name": "stdout",
          "text": [
            "keras <module 'keras.api._v2.keras' from '/usr/local/lib/python3.10/dist-packages/keras/api/_v2/keras/__init__.py'>\n",
            "tf 2.15.0\n"
          ]
        }
      ]
    },
    {
      "cell_type": "markdown",
      "metadata": {
        "id": "qlKbYg4eMEod"
      },
      "source": [
        "---\n",
        "# Data\n",
        "### Download data\n",
        "As a first step, we have to download the simulated air shower data."
      ]
    },
    {
      "cell_type": "code",
      "metadata": {
        "id": "afCf7h-HMEoe"
      },
      "source": [
        "import os\n",
        "import gdown\n",
        "url = \"https://drive.google.com/u/0/uc?export=download&confirm=HgGH&id=19gOSVQ0mhdjMkm5i2u5NsGrWNBdlhR4F\"\n",
        "output = 'airshowers_mnist.npz'\n",
        "\n",
        "if os.path.exists(output) == False:\n",
        "    gdown.download(url, output, quiet=False)\n",
        "\n",
        "f = np.load(output)"
      ],
      "execution_count": 35,
      "outputs": []
    },
    {
      "cell_type": "markdown",
      "metadata": {
        "id": "kA707hclMEoj"
      },
      "source": [
        "### Input 1: Measured signals\n",
        "In the following, we inspect the measured signals of the detectors.  \n",
        "Remember that each input has the shape of 14 x 14, as each station measures a specific arrival time.\n",
        "\n",
        "We process the signal using a logarithmic re-scaling."
      ]
    },
    {
      "cell_type": "code",
      "source": [
        "# signal map\n",
        "S_ = f['signal']\n",
        "S_ = np.log10(1 + S_)\n",
        "S_ -= np.nanmin(S_)\n",
        "S_ /= np.nanmax(S_)\n",
        "S_[np.isnan(S_)] = 0\n",
        "\n",
        "print(S_.shape)"
      ],
      "metadata": {
        "colab": {
          "base_uri": "https://localhost:8080/"
        },
        "id": "FO3t0rHdbBWu",
        "outputId": "8a39092f-8d05-4d72-fa70-72d770cc9685"
      },
      "execution_count": 36,
      "outputs": [
        {
          "output_type": "stream",
          "name": "stdout",
          "text": [
            "(100000, 14, 14)\n"
          ]
        }
      ]
    },
    {
      "cell_type": "markdown",
      "source": [
        "### Input 2: Arrival times\n",
        "Our first input is the arrival times of the first shower particles, measured at the various stations.\n",
        "Again, we have 14 x 14 measurements (a few are zero as no signal was measured) that form a single event.\n",
        "\n",
        "We normalize the arrival times with respect to the mean and the standard deviation of the arrival time distribution."
      ],
      "metadata": {
        "id": "MF1K8K7tcH-o"
      }
    },
    {
      "cell_type": "code",
      "source": [
        "# time map\n",
        "T_ = f['time']\n",
        "T_ -= np.nanmean(T_)\n",
        "T_ /= np.nanstd(T_)\n",
        "T_[np.isnan(T_)] = 0\n",
        "\n",
        "print(T_.shape)"
      ],
      "metadata": {
        "colab": {
          "base_uri": "https://localhost:8080/"
        },
        "id": "yrJauFeAcDcG",
        "outputId": "aadfad80-83d2-4e3a-ce37-45e615bf2511"
      },
      "execution_count": 37,
      "outputs": [
        {
          "output_type": "stream",
          "name": "stdout",
          "text": [
            "(100000, 14, 14)\n"
          ]
        }
      ]
    },
    {
      "cell_type": "markdown",
      "source": [
        "# Create point cloud\n",
        "In the following we only consider trigger stations.\n",
        "Thus, we use a point cloud for each event.\n",
        "\n",
        "This point cloud, which contains per event of a different number of tanks, will be used as the sequence to be exploited by the point cloud transformer."
      ],
      "metadata": {
        "id": "CixGxKWjcL_q"
      }
    },
    {
      "cell_type": "code",
      "source": [
        "def rectangular_array(n=14):\n",
        "    \"\"\" Return x,y coordinates for rectangular array with n^2 stations. \"\"\"\n",
        "    n0 = (n - 1) / 2\n",
        "    return (np.mgrid[0:n, 0:n].astype(float) - n0)\n",
        "\n",
        "def rectangular_array(n=14):\n",
        "    return np.meshgrid(np.arange(n),np.arange(n))\n",
        "\n",
        "\n",
        "x_pos, y_pos = rectangular_array()\n",
        "\n",
        "x_list = []\n",
        "y_list = []\n",
        "S_list = []\n",
        "T_list = []\n",
        "\n",
        "for rowS, rowT in zip(S_, T_):\n",
        "    m = rowS != 0\n",
        "    x_pos_ = np.array(x_pos)[m][:, np.newaxis]\n",
        "    y_pos_ = np.array(y_pos)[m][:, np.newaxis]\n",
        "    S_list.append(np.array(rowS)[m][:, np.newaxis])\n",
        "    T_list.append(np.array(rowT)[m][:, np.newaxis])\n",
        "    x_list.append(np.array(x_pos_))\n",
        "    y_list.append(np.array(y_pos_))\n",
        "\n",
        "print(\"length\", len(S_list))"
      ],
      "metadata": {
        "colab": {
          "base_uri": "https://localhost:8080/"
        },
        "id": "BxQL43rvaTh8",
        "outputId": "f451b2fd-4d6b-4e0f-eb3a-6cdce60aedfe"
      },
      "execution_count": 38,
      "outputs": [
        {
          "output_type": "stream",
          "name": "stdout",
          "text": [
            "length 100000\n"
          ]
        }
      ]
    },
    {
      "cell_type": "code",
      "source": [
        "x_pos_"
      ],
      "metadata": {
        "id": "ivAnnALLgUIL",
        "outputId": "4b3c6b26-77c2-464e-f87a-f36fb8b34921",
        "colab": {
          "base_uri": "https://localhost:8080/"
        }
      },
      "execution_count": 39,
      "outputs": [
        {
          "output_type": "execute_result",
          "data": {
            "text/plain": [
              "array([[ 9],\n",
              "       [11],\n",
              "       [ 8],\n",
              "       [ 9],\n",
              "       [10],\n",
              "       [11],\n",
              "       [ 7],\n",
              "       [ 8],\n",
              "       [ 9],\n",
              "       [10],\n",
              "       [11],\n",
              "       [12],\n",
              "       [13],\n",
              "       [ 6],\n",
              "       [ 7],\n",
              "       [ 8],\n",
              "       [ 9],\n",
              "       [10],\n",
              "       [11],\n",
              "       [12],\n",
              "       [ 7],\n",
              "       [ 8],\n",
              "       [ 9],\n",
              "       [10],\n",
              "       [11],\n",
              "       [12],\n",
              "       [ 7],\n",
              "       [ 8],\n",
              "       [ 9],\n",
              "       [10],\n",
              "       [11],\n",
              "       [12],\n",
              "       [ 7],\n",
              "       [ 8],\n",
              "       [ 9],\n",
              "       [10],\n",
              "       [11]])"
            ]
          },
          "metadata": {},
          "execution_count": 39
        }
      ]
    },
    {
      "cell_type": "markdown",
      "metadata": {
        "id": "8MH4JaVhM0AA"
      },
      "source": [
        "#### Plot four example events\n",
        "We can now plot 4 random example events and their signal footprint."
      ]
    },
    {
      "cell_type": "code",
      "metadata": {
        "id": "AAS9bA1kMEom",
        "colab": {
          "base_uri": "https://localhost:8080/",
          "height": 707
        },
        "outputId": "90984b4e-31b2-403c-bca7-56aa7f424f0f"
      },
      "source": [
        "nsamples = len(S_list)\n",
        "random_samples = np.random.choice(nsamples, 4)\n",
        "\n",
        "plt.figure(figsize=(9,7))\n",
        "\n",
        "for i,j in enumerate(random_samples):\n",
        "    plt.subplot(2,2,i+1)\n",
        "    xd, yd = x_list[j] , y_list[j]\n",
        "    footprint = S_list[j]\n",
        "    marker_size = 130 * footprint + 20\n",
        "    circles = plt.scatter(xd, yd, c=footprint, s=marker_size,\n",
        "                          cmap=\"autumn_r\", alpha=1, label=\"loud\",\n",
        "                          edgecolors=\"k\", linewidths=0.4)\n",
        "    cbar = plt.colorbar(circles)\n",
        "    cbar.set_label('normalized time [a.u.]')\n",
        "    plt.xlabel(\"x / km\")\n",
        "    plt.ylabel(\"y / km\")\n",
        "    plt.grid(True)\n",
        "\n",
        "plt.tight_layout()\n",
        "plt.show()"
      ],
      "execution_count": 40,
      "outputs": [
        {
          "output_type": "display_data",
          "data": {
            "text/plain": [
              "<Figure size 900x700 with 8 Axes>"
            ],
            "image/png": "[encoded data removed]"
          },
          "metadata": {}
        }
      ]
    },
    {
      "cell_type": "markdown",
      "metadata": {
        "id": "3p35M05lMEoh"
      },
      "source": [
        "#### Plot four example maps\n",
        "We now visualize a map of arrival times. Here, the dark blue indicates an early trigger and a bright yellow a late trigger.  \n",
        "With this information, one can directly get an impression of the shower axis (arrival direction) of the arriving particle shower."
      ]
    },
    {
      "cell_type": "code",
      "source": [
        "plt.figure(figsize=(9,7))\n",
        "\n",
        "for i,j in enumerate(random_samples):\n",
        "    plt.subplot(2,2,i+1)\n",
        "    xd, yd = x_list[j] * np.std(x_pos), y_list[j] * np.std(y_pos)\n",
        "    footprint = 50 * T_list[j]\n",
        "    circles = plt.scatter(xd, yd, c=footprint,\n",
        "                          cmap=\"viridis\", alpha=1, label=\"loud\",\n",
        "                          edgecolors=\"k\", linewidths=0.3)\n",
        "    cbar = plt.colorbar(circles)\n",
        "    cbar.set_label('normalized time [a.u.]')\n",
        "    plt.xlabel(\"x / km\")\n",
        "    plt.ylabel(\"y / km\")\n",
        "    plt.grid(True)\n",
        "    plt.xlim(-7, 7)\n",
        "    plt.ylim(-7, 7)\n",
        "\n",
        "plt.tight_layout()\n",
        "plt.show()"
      ],
      "metadata": {
        "id": "5CqG6VRaKCid",
        "outputId": "336e5749-6965-422f-fd7f-093a431e5413",
        "colab": {
          "base_uri": "https://localhost:8080/",
          "height": 706
        }
      },
      "execution_count": 41,
      "outputs": [
        {
          "output_type": "display_data",
          "data": {
            "text/plain": [
              "<Figure size 900x700 with 8 Axes>"
            ],
            "image/png": "[encoded data removed]"
          },
          "metadata": {}
        }
      ]
    },
    {
      "cell_type": "markdown",
      "metadata": {
        "id": "5xk9pp_2MEon"
      },
      "source": [
        "### Labels\n",
        "Now, we can prepare the targets of our neural network training."
      ]
    },
    {
      "cell_type": "code",
      "metadata": {
        "id": "t3TMaOzfMEoo",
        "colab": {
          "base_uri": "https://localhost:8080/"
        },
        "outputId": "7283bee0-92a2-4bd2-e5ae-d8112b711890"
      },
      "source": [
        "# energy - log10(E/eV) in range 3 - 100 EeV\n",
        "energy = f['energy'][:, np.newaxis]\n",
        "print(energy)"
      ],
      "execution_count": 42,
      "outputs": [
        {
          "output_type": "stream",
          "name": "stdout",
          "text": [
            "[[ 4.00461776]\n",
            " [ 5.99159294]\n",
            " [ 7.49367551]\n",
            " ...\n",
            " [10.81657107]\n",
            " [ 5.07542798]\n",
            " [43.32910954]]\n"
          ]
        }
      ]
    },
    {
      "cell_type": "markdown",
      "metadata": {
        "id": "7AXjf80PRHnx"
      },
      "source": [
        "---\n",
        "#### Training and test data\n",
        "We further split the data into one large training set and a smaller test set. This test set is used for the final evaluation of the model and is only used once to ensure an unbiased performance measure.\n",
        "\n",
        "\n",
        "We make use of the powerful `Tensorflow Dataset`class."
      ]
    },
    {
      "cell_type": "code",
      "source": [
        "n_train = int(0.7 * nsamples)\n",
        "n_valid = int(0.1 * nsamples)\n",
        "n_test = int(0.2 * nsamples)"
      ],
      "metadata": {
        "id": "SEmQDmRgEgSH"
      },
      "execution_count": 43,
      "outputs": []
    },
    {
      "cell_type": "code",
      "source": [
        "# Create TF Dataset\n",
        "def gen(type_):\n",
        "    if type_ == \"test\":\n",
        "        n_ = range(0, n_test)\n",
        "    elif type_ == \"valid\":\n",
        "        n_ = range(n_test, n_train+n_test)\n",
        "    else:\n",
        "        n_ = range(n_train+n_test, n_train+n_test+n_valid)\n",
        "\n",
        "    while True:\n",
        "        for i in n_:\n",
        "            yield {\"signal\": S_list[i], \"time\": T_list[i], \"x_pos\": x_list[i], \"y_pos\": y_list[i]}, {\"energy\": energy[i]}\n",
        "\n",
        "train_dataset = tf.data.Dataset.from_generator(\n",
        "    lambda: gen(\"train\"),\n",
        "    output_signature=(\n",
        "        {\"signal\": tf.TensorSpec(shape=(None, 1), dtype=tf.float32),\"time\": tf.TensorSpec(shape=(None, 1), dtype=tf.float32),\n",
        "         \"x_pos\": tf.TensorSpec(shape=(None, 1), dtype=tf.int32),\"y_pos\": tf.TensorSpec(shape=(None, 1), dtype=tf.int32)\n",
        "        },\n",
        "        {\n",
        "         \"energy\": tf.TensorSpec(shape=(1,), dtype=tf.float32)\n",
        "        }\n",
        "    )\n",
        ")\n",
        "\n",
        "\n",
        "# Example of how to iterate through the dataset\n",
        "for elem in train_dataset.take(1):\n",
        "    print(\"feature inputs\", elem[0].keys())\n",
        "    print(\"label inputs\", elem[1].keys())"
      ],
      "metadata": {
        "colab": {
          "base_uri": "https://localhost:8080/"
        },
        "id": "fFda1YW3d6HA",
        "outputId": "af281326-b53e-4f4b-b554-0b21501d3c37"
      },
      "execution_count": 47,
      "outputs": [
        {
          "output_type": "stream",
          "name": "stdout",
          "text": [
            "feature inputs dict_keys(['signal', 'time', 'x_pos', 'y_pos'])\n",
            "label inputs dict_keys(['energy'])\n"
          ]
        }
      ]
    },
    {
      "cell_type": "code",
      "source": [
        "valid_dataset = tf.data.Dataset.from_generator(\n",
        "    lambda: gen(\"valid\"),\n",
        "    output_signature=(\n",
        "        {\"signal\": tf.TensorSpec(shape=(None, 1), dtype=tf.float32),\"time\": tf.TensorSpec(shape=(None, 1), dtype=tf.float32),\n",
        "         \"x_pos\": tf.TensorSpec(shape=(None, 1), dtype=tf.int32),\"y_pos\": tf.TensorSpec(shape=(None, 1), dtype=tf.int32)\n",
        "        },\n",
        "        {\n",
        "        \"energy\": tf.TensorSpec(shape=(1,), dtype=tf.float32)\n",
        "        }\n",
        "    )\n",
        ")\n",
        "\n",
        "\n",
        "test_dataset = tf.data.Dataset.from_generator(\n",
        "    lambda: gen(\"test\"),\n",
        "    output_signature=(\n",
        "        {\"signal\": tf.TensorSpec(shape=(None, 1), dtype=tf.float32),\"time\": tf.TensorSpec(shape=(None, 1), dtype=tf.float32),\n",
        "         \"x_pos\": tf.TensorSpec(shape=(None, 1), dtype=tf.int32),\"y_pos\": tf.TensorSpec(shape=(None, 1), dtype=tf.int32)\n",
        "        },\n",
        "        {\n",
        "        \"energy\": tf.TensorSpec(shape=(1,), dtype=tf.float32)\n",
        "        }\n",
        "    )\n",
        ")"
      ],
      "metadata": {
        "id": "j9j8O4oEjOEV"
      },
      "execution_count": 48,
      "outputs": []
    },
    {
      "cell_type": "markdown",
      "source": [
        "## Padding the batches\n",
        "We now create a padded batch, i.e., we pick $b_n$ sequences to form a batch.\n",
        "However, since the sequences have different lengths, we have to padd with zeros (fill up the arrays)."
      ],
      "metadata": {
        "id": "pyLschLbB6Hi"
      }
    },
    {
      "cell_type": "code",
      "source": [
        "# Create batch with 16 sequences\n",
        "BATCH_SIZE = 32\n",
        "padded_train_dataset = train_dataset.padded_batch(BATCH_SIZE)\n",
        "padded_valid_dataset = train_dataset.padded_batch(BATCH_SIZE)\n",
        "padded_test_dataset = train_dataset.padded_batch(BATCH_SIZE)\n",
        "\n",
        "# shape is: [batchsize, n_trig, 1] (last axis is dummy axis, needed by keras)\n",
        "for i, elem in enumerate(padded_train_dataset.take(2)):\n",
        "    print(\"\\n batch:\", i)\n",
        "    print({k: val.shape for k, val in elem[0].items()})\n",
        "    print({k: val.shape for k, val in elem[1].items()})\n"
      ],
      "metadata": {
        "colab": {
          "base_uri": "https://localhost:8080/"
        },
        "id": "j1FlZmLrBB8n",
        "outputId": "a9b39136-c21e-47cc-8314-f568286bddee"
      },
      "execution_count": 99,
      "outputs": [
        {
          "output_type": "stream",
          "name": "stdout",
          "text": [
            "\n",
            " batch: 0\n",
            "{'signal': TensorShape([32, 59, 1]), 'time': TensorShape([32, 59, 1]), 'x_pos': TensorShape([32, 59, 1]), 'y_pos': TensorShape([32, 59, 1])}\n",
            "{'energy': TensorShape([32, 1])}\n",
            "\n",
            " batch: 1\n",
            "{'signal': TensorShape([32, 73, 1]), 'time': TensorShape([32, 73, 1]), 'x_pos': TensorShape([32, 73, 1]), 'y_pos': TensorShape([32, 73, 1])}\n",
            "{'energy': TensorShape([32, 1])}\n"
          ]
        }
      ]
    },
    {
      "cell_type": "code",
      "source": [
        "print(\"\\n signal sequence for first sample in batch\")\n",
        "print(elem[0][\"signal\"][0])  # will be most-likely (of the event isn't the one with most triggered stations) zero-padded"
      ],
      "metadata": {
        "colab": {
          "base_uri": "https://localhost:8080/"
        },
        "id": "vO6AKcZJC70Y",
        "outputId": "87d7e79b-78f1-460b-c949-cff24546728e"
      },
      "execution_count": 100,
      "outputs": [
        {
          "output_type": "stream",
          "name": "stdout",
          "text": [
            "\n",
            " signal sequence for first sample in batch\n",
            "tf.Tensor(\n",
            "[[0.00719078]\n",
            " [0.01375804]\n",
            " [0.018232  ]\n",
            " [0.01321297]\n",
            " [0.00165805]\n",
            " [0.00435669]\n",
            " [0.04197521]\n",
            " [0.08193553]\n",
            " [0.13647024]\n",
            " [0.12563579]\n",
            " [0.08046388]\n",
            " [0.02657016]\n",
            " [0.00237924]\n",
            " [0.04742797]\n",
            " [0.15326095]\n",
            " [0.35167348]\n",
            " [0.50036085]\n",
            " [0.3478891 ]\n",
            " [0.15603445]\n",
            " [0.05270339]\n",
            " [0.0028519 ]\n",
            " [0.00469412]\n",
            " [0.01969063]\n",
            " [0.10594861]\n",
            " [0.31101945]\n",
            " [0.77451676]\n",
            " [0.87138057]\n",
            " [0.35059032]\n",
            " [0.12596627]\n",
            " [0.02983706]\n",
            " [0.00202686]\n",
            " [0.00145706]\n",
            " [0.01937547]\n",
            " [0.09804157]\n",
            " [0.21737158]\n",
            " [0.31529707]\n",
            " [0.2584778 ]\n",
            " [0.12361436]\n",
            " [0.04799733]\n",
            " [0.00701588]\n",
            " [0.00207187]\n",
            " [0.01364427]\n",
            " [0.02995972]\n",
            " [0.0600351 ]\n",
            " [0.06490296]\n",
            " [0.04823493]\n",
            " [0.01476869]\n",
            " [0.00985563]\n",
            " [0.00698767]\n",
            " [0.00401236]\n",
            " [0.        ]\n",
            " [0.        ]\n",
            " [0.        ]\n",
            " [0.        ]\n",
            " [0.        ]\n",
            " [0.        ]\n",
            " [0.        ]\n",
            " [0.        ]\n",
            " [0.        ]\n",
            " [0.        ]\n",
            " [0.        ]\n",
            " [0.        ]\n",
            " [0.        ]\n",
            " [0.        ]\n",
            " [0.        ]\n",
            " [0.        ]\n",
            " [0.        ]\n",
            " [0.        ]\n",
            " [0.        ]\n",
            " [0.        ]\n",
            " [0.        ]\n",
            " [0.        ]\n",
            " [0.        ]], shape=(73, 1), dtype=float32)\n"
          ]
        }
      ]
    },
    {
      "cell_type": "markdown",
      "metadata": {
        "id": "hPuYYDR1MEoq"
      },
      "source": [
        "---\n",
        "## Define Model\n",
        "Now, we will set up a neural network to reconstruct the energy of the particle shower. In this **define step** we will set the architecture of the model.\n",
        "\n",
        "\n",
        "> **Modification section**  \n",
        "> Feel free to modify the model.\n",
        "> For example:\n",
        ">\n",
        "\n"
      ]
    },
    {
      "cell_type": "code",
      "source": [
        "n_embed = 8\n",
        "mlp_units = n_embed * 4\n",
        "n_tansformerblocks = 4\n",
        "\n",
        "def mlp(x, embed_dim, hidden_dim, dropout_rate=0.0):\n",
        "    x = layers.Dense(hidden_dim, activation=keras.activations.gelu)(x)\n",
        "    x = layers.Dropout(dropout_rate)(x)\n",
        "    x = layers.Dense(embed_dim)(x)\n",
        "    return x"
      ],
      "metadata": {
        "id": "e9N9UIM6EGWW"
      },
      "execution_count": 101,
      "outputs": []
    },
    {
      "cell_type": "code",
      "source": [
        "masked_positions"
      ],
      "metadata": {
        "id": "fUZZNeiu5J2O",
        "outputId": "e47be0b6-2ae1-4d6b-eb49-b26e4d1597d2",
        "colab": {
          "base_uri": "https://localhost:8080/"
        }
      },
      "execution_count": 102,
      "outputs": [
        {
          "output_type": "execute_result",
          "data": {
            "text/plain": [
              "<KerasTensor: shape=(None, None, 8) dtype=float32 (created by layer 'tf.__operators__.add_13')>"
            ]
          },
          "metadata": {},
          "execution_count": 102
        }
      ]
    },
    {
      "cell_type": "code",
      "metadata": {
        "id": "osFl4FlNMEor"
      },
      "source": [
        "from tensorflow.keras import layers, models, Input\n",
        "\n",
        "# Define inputs\n",
        "signal_input = Input(shape=(None, 1), name=\"signal\")\n",
        "time_input = Input(shape=(None, 1), name=\"time\")\n",
        "posx_input = Input(shape=(None, 1), name=\"x_pos\")\n",
        "posy_input = Input(shape=(None, 1), name=\"y_pos\")\n",
        "\n",
        "# Mask inputs --> will mask the padded values\n",
        "masked_signals = layers.Masking(mask_value=0.0)(signal_input)\n",
        "masked_times = layers.Masking(mask_value=0.0)(time_input)\n",
        "masked_posx = layers.Masking(mask_value=0.0)(posx_input)\n",
        "masked_posy = layers.Masking(mask_value=0.0)(posy_input)\n",
        "\n",
        "masked_posx = layers.Lambda(lambda x: tf.squeeze(x, axis=-1))(masked_posx)\n",
        "masked_posy = layers.Lambda(lambda x: tf.squeeze(x, axis=-1))(masked_posy)\n",
        "\n",
        "masked_posx = layers.Embedding(14, n_embed)(masked_posx)\n",
        "masked_posy = layers.Embedding(14, n_embed)(masked_posy)\n",
        "\n",
        "\n",
        "\n",
        "# Concatenate masked inputs\n",
        "masked_features = layers.Concatenate()([masked_signals, masked_times])\n",
        "masked_positions = masked_posx + masked_posy\n",
        "\n",
        "# Embedding layers\n",
        "embedded_feat = layers.Dense(n_embed)(masked_features)\n",
        "embedded_pos = masked_positions\n",
        "xin = embedded_feat + embedded_pos\n",
        "\n",
        "# Transformer blocks\n",
        "for _ in range(n_tansformerblocks):\n",
        "    x1 = layers.LayerNormalization(epsilon=1e-6)(xin)\n",
        "    attention_output = layers.MultiHeadAttention(num_heads=4, key_dim=32)(x1, x1)\n",
        "    x2 = layers.Add()([attention_output, xin])\n",
        "    x3 = layers.LayerNormalization(epsilon=1e-6)(x2)\n",
        "    x3 = mlp(x3, n_embed, mlp_units)\n",
        "    xin = layers.Add()([x2, x3])\n",
        "\n",
        "# Global average pooling and output layer --> remove dependency on number of triggered tanks\n",
        "x = layers.GlobalAveragePooling1D()(xin)\n",
        "x = layers.LayerNormalization(epsilon=1e-6)(x)\n",
        "x = layers.Dense(n_embed * 2, activation=\"elu\")(x)\n",
        "x = layers.Dropout(0.2)(x)\n",
        "\n",
        "pre = layers.Dense(1, activation=\"linear\", name=\"pre\")(x)\n",
        "output = layers.Lambda(lambda x: np.std(energy.squeeze()) * x + np.mean(energy.squeeze()), name=\"energy\")(pre)  # normalize labels\n",
        "\n",
        "# Define and compile model\n",
        "model = models.Model(inputs={\"signal\": signal_input, \"time\": time_input, \"x_pos\": posx_input, \"y_pos\": posy_input},\n",
        "                     outputs={\"energy\": output})\n"
      ],
      "execution_count": 103,
      "outputs": []
    },
    {
      "cell_type": "markdown",
      "metadata": {
        "id": "kYCXaKAlTnY4"
      },
      "source": [
        "We can have a deeper look at our designed model and inspect the number of adaptive parameters by printing the model `summary`."
      ]
    },
    {
      "cell_type": "code",
      "metadata": {
        "id": "gI2q65DlTvow",
        "colab": {
          "base_uri": "https://localhost:8080/"
        },
        "outputId": "43d1afea-1fcf-4163-e2c9-f28b634c78ee"
      },
      "source": [
        "print(model.summary())"
      ],
      "execution_count": 104,
      "outputs": [
        {
          "output_type": "stream",
          "name": "stdout",
          "text": [
            "Model: \"model_7\"\n",
            "__________________________________________________________________________________________________\n",
            " Layer (type)                Output Shape                 Param #   Connected to                  \n",
            "==================================================================================================\n",
            " x_pos (InputLayer)          [(None, None, 1)]            0         []                            \n",
            "                                                                                                  \n",
            " y_pos (InputLayer)          [(None, None, 1)]            0         []                            \n",
            "                                                                                                  \n",
            " signal (InputLayer)         [(None, None, 1)]            0         []                            \n",
            "                                                                                                  \n",
            " time (InputLayer)           [(None, None, 1)]            0         []                            \n",
            "                                                                                                  \n",
            " masking_66 (Masking)        (None, None, 1)              0         ['x_pos[0][0]']               \n",
            "                                                                                                  \n",
            " masking_67 (Masking)        (None, None, 1)              0         ['y_pos[0][0]']               \n",
            "                                                                                                  \n",
            " masking_64 (Masking)        (None, None, 1)              0         ['signal[0][0]']              \n",
            "                                                                                                  \n",
            " masking_65 (Masking)        (None, None, 1)              0         ['time[0][0]']                \n",
            "                                                                                                  \n",
            " lambda_11 (Lambda)          (None, None)                 0         ['masking_66[0][0]']          \n",
            "                                                                                                  \n",
            " lambda_12 (Lambda)          (None, None)                 0         ['masking_67[0][0]']          \n",
            "                                                                                                  \n",
            " concatenate_28 (Concatenat  (None, None, 2)              0         ['masking_64[0][0]',          \n",
            " e)                                                                  'masking_65[0][0]']          \n",
            "                                                                                                  \n",
            " embedding_24 (Embedding)    (None, None, 8)              112       ['lambda_11[0][0]']           \n",
            "                                                                                                  \n",
            " embedding_25 (Embedding)    (None, None, 8)              112       ['lambda_12[0][0]']           \n",
            "                                                                                                  \n",
            " dense_101 (Dense)           (None, None, 8)              24        ['concatenate_28[0][0]']      \n",
            "                                                                                                  \n",
            " tf.__operators__.add_15 (T  (None, None, 8)              0         ['embedding_24[0][0]',        \n",
            " FOpLambda)                                                          'embedding_25[0][0]']        \n",
            "                                                                                                  \n",
            " tf.__operators__.add_16 (T  (None, None, 8)              0         ['dense_101[0][0]',           \n",
            " FOpLambda)                                                          'tf.__operators__.add_15[0][0\n",
            "                                                                    ]']                           \n",
            "                                                                                                  \n",
            " layer_normalization_83 (La  (None, None, 8)              16        ['tf.__operators__.add_16[0][0\n",
            " yerNormalization)                                                  ]']                           \n",
            "                                                                                                  \n",
            " multi_head_attention_38 (M  (None, None, 8)              4488      ['layer_normalization_83[0][0]\n",
            " ultiHeadAttention)                                                 ',                            \n",
            "                                                                     'layer_normalization_83[0][0]\n",
            "                                                                    ']                            \n",
            "                                                                                                  \n",
            " add_74 (Add)                (None, None, 8)              0         ['multi_head_attention_38[0][0\n",
            "                                                                    ]',                           \n",
            "                                                                     'tf.__operators__.add_16[0][0\n",
            "                                                                    ]']                           \n",
            "                                                                                                  \n",
            " layer_normalization_84 (La  (None, None, 8)              16        ['add_74[0][0]']              \n",
            " yerNormalization)                                                                                \n",
            "                                                                                                  \n",
            " dense_102 (Dense)           (None, None, 32)             288       ['layer_normalization_84[0][0]\n",
            "                                                                    ']                            \n",
            "                                                                                                  \n",
            " dropout_43 (Dropout)        (None, None, 32)             0         ['dense_102[0][0]']           \n",
            "                                                                                                  \n",
            " dense_103 (Dense)           (None, None, 8)              264       ['dropout_43[0][0]']          \n",
            "                                                                                                  \n",
            " add_75 (Add)                (None, None, 8)              0         ['add_74[0][0]',              \n",
            "                                                                     'dense_103[0][0]']           \n",
            "                                                                                                  \n",
            " layer_normalization_85 (La  (None, None, 8)              16        ['add_75[0][0]']              \n",
            " yerNormalization)                                                                                \n",
            "                                                                                                  \n",
            " multi_head_attention_39 (M  (None, None, 8)              4488      ['layer_normalization_85[0][0]\n",
            " ultiHeadAttention)                                                 ',                            \n",
            "                                                                     'layer_normalization_85[0][0]\n",
            "                                                                    ']                            \n",
            "                                                                                                  \n",
            " add_76 (Add)                (None, None, 8)              0         ['multi_head_attention_39[0][0\n",
            "                                                                    ]',                           \n",
            "                                                                     'add_75[0][0]']              \n",
            "                                                                                                  \n",
            " layer_normalization_86 (La  (None, None, 8)              16        ['add_76[0][0]']              \n",
            " yerNormalization)                                                                                \n",
            "                                                                                                  \n",
            " dense_104 (Dense)           (None, None, 32)             288       ['layer_normalization_86[0][0]\n",
            "                                                                    ']                            \n",
            "                                                                                                  \n",
            " dropout_44 (Dropout)        (None, None, 32)             0         ['dense_104[0][0]']           \n",
            "                                                                                                  \n",
            " dense_105 (Dense)           (None, None, 8)              264       ['dropout_44[0][0]']          \n",
            "                                                                                                  \n",
            " add_77 (Add)                (None, None, 8)              0         ['add_76[0][0]',              \n",
            "                                                                     'dense_105[0][0]']           \n",
            "                                                                                                  \n",
            " layer_normalization_87 (La  (None, None, 8)              16        ['add_77[0][0]']              \n",
            " yerNormalization)                                                                                \n",
            "                                                                                                  \n",
            " multi_head_attention_40 (M  (None, None, 8)              4488      ['layer_normalization_87[0][0]\n",
            " ultiHeadAttention)                                                 ',                            \n",
            "                                                                     'layer_normalization_87[0][0]\n",
            "                                                                    ']                            \n",
            "                                                                                                  \n",
            " add_78 (Add)                (None, None, 8)              0         ['multi_head_attention_40[0][0\n",
            "                                                                    ]',                           \n",
            "                                                                     'add_77[0][0]']              \n",
            "                                                                                                  \n",
            " layer_normalization_88 (La  (None, None, 8)              16        ['add_78[0][0]']              \n",
            " yerNormalization)                                                                                \n",
            "                                                                                                  \n",
            " dense_106 (Dense)           (None, None, 32)             288       ['layer_normalization_88[0][0]\n",
            "                                                                    ']                            \n",
            "                                                                                                  \n",
            " dropout_45 (Dropout)        (None, None, 32)             0         ['dense_106[0][0]']           \n",
            "                                                                                                  \n",
            " dense_107 (Dense)           (None, None, 8)              264       ['dropout_45[0][0]']          \n",
            "                                                                                                  \n",
            " add_79 (Add)                (None, None, 8)              0         ['add_78[0][0]',              \n",
            "                                                                     'dense_107[0][0]']           \n",
            "                                                                                                  \n",
            " layer_normalization_89 (La  (None, None, 8)              16        ['add_79[0][0]']              \n",
            " yerNormalization)                                                                                \n",
            "                                                                                                  \n",
            " multi_head_attention_41 (M  (None, None, 8)              4488      ['layer_normalization_89[0][0]\n",
            " ultiHeadAttention)                                                 ',                            \n",
            "                                                                     'layer_normalization_89[0][0]\n",
            "                                                                    ']                            \n",
            "                                                                                                  \n",
            " add_80 (Add)                (None, None, 8)              0         ['multi_head_attention_41[0][0\n",
            "                                                                    ]',                           \n",
            "                                                                     'add_79[0][0]']              \n",
            "                                                                                                  \n",
            " layer_normalization_90 (La  (None, None, 8)              16        ['add_80[0][0]']              \n",
            " yerNormalization)                                                                                \n",
            "                                                                                                  \n",
            " dense_108 (Dense)           (None, None, 32)             288       ['layer_normalization_90[0][0]\n",
            "                                                                    ']                            \n",
            "                                                                                                  \n",
            " dropout_46 (Dropout)        (None, None, 32)             0         ['dense_108[0][0]']           \n",
            "                                                                                                  \n",
            " dense_109 (Dense)           (None, None, 8)              264       ['dropout_46[0][0]']          \n",
            "                                                                                                  \n",
            " add_81 (Add)                (None, None, 8)              0         ['add_80[0][0]',              \n",
            "                                                                     'dense_109[0][0]']           \n",
            "                                                                                                  \n",
            " global_average_pooling1d_9  (None, 8)                    0         ['add_81[0][0]']              \n",
            "  (GlobalAveragePooling1D)                                                                        \n",
            "                                                                                                  \n",
            " layer_normalization_91 (La  (None, 8)                    16        ['global_average_pooling1d_9[0\n",
            " yerNormalization)                                                  ][0]']                        \n",
            "                                                                                                  \n",
            " dense_110 (Dense)           (None, 16)                   144       ['layer_normalization_91[0][0]\n",
            "                                                                    ']                            \n",
            "                                                                                                  \n",
            " dropout_47 (Dropout)        (None, 16)                   0         ['dense_110[0][0]']           \n",
            "                                                                                                  \n",
            " pre (Dense)                 (None, 1)                    17        ['dropout_47[0][0]']          \n",
            "                                                                                                  \n",
            " energy (Lambda)             (None, 1)                    0         ['pre[0][0]']                 \n",
            "                                                                                                  \n",
            "==================================================================================================\n",
            "Total params: 20713 (80.91 KB)\n",
            "Trainable params: 20713 (80.91 KB)\n",
            "Non-trainable params: 0 (0.00 Byte)\n",
            "__________________________________________________________________________________________________\n",
            "None\n"
          ]
        }
      ]
    },
    {
      "cell_type": "markdown",
      "metadata": {
        "id": "LvP_7f3kT6qC"
      },
      "source": [
        "### Compile\n",
        "We now compile the model to prepare it for the training. During the **compile** step, we set a loss/objective function (`mean_squared_error`, as energy reconstruction is a regression task) and set an optimizer. In this case, we use the Adam optimizer with a learning rate of 0.001.\n",
        "To monitor the resolution and the bias of the model, we add them as a metric."
      ]
    },
    {
      "cell_type": "code",
      "metadata": {
        "id": "neGTmqafXVV2"
      },
      "source": [
        "def resolution(y_true, y_pred):\n",
        "    \"\"\" Metric to control for standart deviation \"\"\"\n",
        "    return tf.math.reduce_std(tf.squeeze(y_true) - tf.squeeze(y_pred))\n",
        "\n",
        "\n",
        "def bias(y_true, y_pred):\n",
        "    \"\"\" Metric to control for standart deviation \"\"\"\n",
        "    return tf.math.reduce_mean(tf.squeeze(y_true) - tf.squeeze(y_pred))"
      ],
      "execution_count": 105,
      "outputs": []
    },
    {
      "cell_type": "code",
      "metadata": {
        "id": "bgigKtfOMEor"
      },
      "source": [
        "model.compile(\n",
        "    loss='mean_squared_error',\n",
        "    metrics=[bias, resolution],\n",
        "    optimizer=keras.optimizers.AdamW(learning_rate=3e-4))"
      ],
      "execution_count": 106,
      "outputs": []
    },
    {
      "cell_type": "markdown",
      "metadata": {
        "id": "1gO22y3jUfos"
      },
      "source": [
        "---\n",
        "### Training\n",
        "We can now run the training for 20 `epochs` (20-fold iteration over the dataset) using our training data `X_train` and our energy labels `energy_train`.\n",
        "For each iteration (calculating the gradients, updating the model parameters), we use 128 samples (`batch_size`).\n",
        "\n",
        "We furthermore can set the fraction of validation data (initially set to `0.1`) that is used to monitor overtraining.\n",
        "\n",
        "> **Modification section**  \n",
        "> Feel free to modify the training procedure, for example:\n",
        ">*   Change (increase) the number of `epochs`.\n",
        ">*   Modify the batch size via `batch_size`.\n"
      ]
    },
    {
      "cell_type": "code",
      "metadata": {
        "id": "uj1ecZz7MEos",
        "colab": {
          "base_uri": "https://localhost:8080/"
        },
        "outputId": "ee5eaa56-5ac7-40c5-a433-3ace689bfaad"
      },
      "source": [
        "epochs = 30\n",
        "fit = model.fit(padded_train_dataset, epochs=epochs, steps_per_epoch=n_train // BATCH_SIZE, batch_size=None,\n",
        "                validation_data=padded_valid_dataset, validation_steps=n_valid // BATCH_SIZE)"
      ],
      "execution_count": null,
      "outputs": [
        {
          "output_type": "stream",
          "name": "stdout",
          "text": [
            "Epoch 1/30\n",
            "2187/2187 [==============================] - 171s 75ms/step - loss: 190.4807 - bias: 0.1889 - resolution: 10.8713 - val_loss: 153.6860 - val_bias: -3.8870 - val_resolution: 8.9910\n",
            "Epoch 2/30\n",
            "2187/2187 [==============================] - 162s 74ms/step - loss: 153.8452 - bias: 0.0405 - resolution: 9.4108 - val_loss: 134.6221 - val_bias: -0.8682 - val_resolution: 8.6389\n",
            "Epoch 3/30\n",
            "2187/2187 [==============================] - 161s 74ms/step - loss: 147.4237 - bias: 0.0415 - resolution: 9.1232 - val_loss: 138.4155 - val_bias: -2.5908 - val_resolution: 8.7537\n",
            "Epoch 4/30\n",
            "2187/2187 [==============================] - 162s 74ms/step - loss: 138.4534 - bias: 0.0372 - resolution: 8.8419 - val_loss: 116.8139 - val_bias: -0.8653 - val_resolution: 8.0562\n",
            "Epoch 5/30\n",
            "2187/2187 [==============================] - 162s 74ms/step - loss: 124.9134 - bias: 0.0203 - resolution: 8.4674 - val_loss: 112.2473 - val_bias: -3.4428 - val_resolution: 7.6439\n",
            "Epoch 6/30\n",
            "2187/2187 [==============================] - 162s 74ms/step - loss: 107.8960 - bias: 0.0116 - resolution: 8.0259 - val_loss: 80.3469 - val_bias: -0.5607 - val_resolution: 6.8397\n",
            "Epoch 7/30\n",
            "2187/2187 [==============================] - 162s 74ms/step - loss: 92.3128 - bias: 0.0126 - resolution: 7.6452 - val_loss: 72.7811 - val_bias: -2.0347 - val_resolution: 6.5920\n",
            "Epoch 8/30\n",
            "2187/2187 [==============================] - 162s 74ms/step - loss: 79.2319 - bias: 0.0236 - resolution: 7.2819 - val_loss: 55.8386 - val_bias: -0.6759 - val_resolution: 6.0352\n",
            "Epoch 9/30\n",
            "2187/2187 [==============================] - 161s 74ms/step - loss: 68.8700 - bias: 0.0040 - resolution: 6.9081 - val_loss: 49.8742 - val_bias: -1.3398 - val_resolution: 5.6663\n",
            "Epoch 10/30\n",
            "2187/2187 [==============================] - 162s 74ms/step - loss: 59.8813 - bias: -0.0082 - resolution: 6.5652 - val_loss: 38.8890 - val_bias: -0.2321 - val_resolution: 5.3099\n",
            "Epoch 11/30\n",
            "2187/2187 [==============================] - 161s 74ms/step - loss: 50.0808 - bias: -0.0068 - resolution: 6.1354 - val_loss: 34.6522 - val_bias: -1.8897 - val_resolution: 4.8583\n",
            "Epoch 12/30\n",
            "2187/2187 [==============================] - 162s 74ms/step - loss: 43.0881 - bias: -0.0103 - resolution: 5.7999 - val_loss: 28.8030 - val_bias: -1.1481 - val_resolution: 4.7109\n",
            "Epoch 13/30\n",
            "2187/2187 [==============================] - 162s 74ms/step - loss: 38.0173 - bias: -0.0085 - resolution: 5.4938 - val_loss: 25.4055 - val_bias: -0.3871 - val_resolution: 4.4844\n",
            "Epoch 14/30\n",
            "1567/2187 [====================>.........] - ETA: 43s - loss: 35.4845 - bias: -0.0144 - resolution: 5.3749"
          ]
        }
      ]
    },
    {
      "cell_type": "markdown",
      "metadata": {
        "id": "iknMUMavMEos"
      },
      "source": [
        "### Plot training curves"
      ]
    },
    {
      "cell_type": "code",
      "metadata": {
        "id": "iqt6hivFMEot"
      },
      "source": [
        "fig, ax = plt.subplots(1, figsize=(8,5))\n",
        "n = np.arange(len(fit.history['loss']))\n",
        "\n",
        "ax.plot(n, fit.history['loss'], ls='--', c='k', label='loss')\n",
        "ax.plot(n, fit.history['val_loss'], label='val_loss', c='k')\n",
        "\n",
        "ax.set_xlabel('Epoch')\n",
        "ax.set_ylabel('Loss')\n",
        "ax.legend()\n",
        "ax.semilogy()\n",
        "ax.grid()\n",
        "plt.show()"
      ],
      "execution_count": null,
      "outputs": []
    },
    {
      "cell_type": "markdown",
      "metadata": {
        "id": "-3j0ScknMEou"
      },
      "source": [
        "---\n",
        "### Performance of the DNN\n",
        "After training the model, we can use the test set `X_test` to evaluate the performance of the DNN.  \n",
        "\n",
        "Particularly interesting are the resolution and the bias of the method. A bias close to 0 is desirable. A resolution below 3 EeV can be regarded as good."
      ]
    },
    {
      "cell_type": "code",
      "metadata": {
        "id": "aObX1rK3MEov"
      },
      "source": [
        "test_dset = test_dataset.padded_batch(BATCH_SIZE)\n",
        "energy_pred = model.predict(test_dset, batch_size=128, verbose=1, steps=n_test // BATCH_SIZE)[\"energy\"][:,0]\n",
        "energy_test = energy[:n_test - n_test % BATCH_SIZE][:, 0]"
      ],
      "execution_count": null,
      "outputs": []
    },
    {
      "cell_type": "code",
      "metadata": {
        "id": "DZoXjUnDg6pB"
      },
      "source": [
        "diff = energy_pred - energy_test\n",
        "resolution = np.std(diff)\n",
        "plt.figure()\n",
        "plt.hist(diff, bins=100)\n",
        "plt.xlabel('$E_\\mathrm{rec} - E_\\mathrm{true}$')\n",
        "plt.ylabel('# Events')\n",
        "plt.text(0.95, 0.95, '$\\sigma = %.3f$ EeV' % resolution, ha='right', va='top', transform=plt.gca().transAxes)\n",
        "plt.text(0.95, 0.85, '$\\mu = %.1f$ EeV' % diff.mean(), ha='right', va='top', transform=plt.gca().transAxes)\n",
        "plt.grid()\n",
        "plt.xlim(-10, 10)\n",
        "plt.tight_layout()"
      ],
      "execution_count": null,
      "outputs": []
    },
    {
      "cell_type": "markdown",
      "metadata": {
        "id": "xxTIoNH4O9ng"
      },
      "source": [
        "After estimating the bias and the resolution, we can now inspect the reconstruction via a scatter plot.  \n",
        "\n",
        "Furthermore, we can study the energy dependence of the resolution. With increasing energy, the performance increases due to the lower sampling fluctuation of the ground-based particle detectors and the larger footprints."
      ]
    },
    {
      "cell_type": "code",
      "metadata": {
        "id": "RSVhxnNFZ2Ro"
      },
      "source": [
        "x = [3, 10, 30, 100]\n",
        "labels = [\"3\", \"10\", \"30\", \"100\"]\n",
        "\n",
        "diff = energy_pred - energy_test\n",
        "\n",
        "# Embedding plot\n",
        "fig, axes = plt.subplots(1, 2, figsize=(20, 9))\n",
        "axes[0].scatter(energy_test, energy_pred, s=3, alpha=0.60)\n",
        "axes[0].set_xlabel(r\"$E_{true}\\;/\\;\\mathrm{EeV}$\")\n",
        "axes[0].set_ylabel(r\"$E_{DNN}\\;/\\;\\mathrm{EeV}$\")\n",
        "\n",
        "stat_box = r\"$\\mu = $ %.3f\" % np.mean(diff) + \" / EeV\" + \"\\n\" + \"$\\sigma = $ %.3f\" % np.std(diff) + \" / EeV\"\n",
        "axes[0].text(0.95, 0.2, stat_box, verticalalignment=\"top\", horizontalalignment=\"right\",\n",
        "          transform=axes[0].transAxes, backgroundcolor=\"w\")\n",
        "axes[0].plot([np.min(energy_test), np.max(energy_test)],\n",
        "             [np.min(energy_test), np.max(energy_test)], color=\"red\")\n",
        "\n",
        "sns.regplot(x=energy_test, y=diff / energy_test, x_estimator=np.std, x_bins=12,\n",
        "            fit_reg=False, color=\"royalblue\", ax=axes[1])\n",
        "axes[1].tick_params(axis=\"both\", which=\"major\")\n",
        "axes[1].set(xscale=\"log\")\n",
        "plt.xticks(x, labels)\n",
        "\n",
        "axes[1].set_xlabel(r\"$E_{true}\\;/\\;\\mathrm{EeV}$\")\n",
        "axes[1].set_ylabel(r\"$\\sigma_{E}/E$\")\n",
        "axes[1].set_ylim(0, 0.2)\n",
        "plt.show()"
      ],
      "execution_count": null,
      "outputs": []
    }
  ]
}