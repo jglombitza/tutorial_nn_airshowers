{
  "nbformat": 4,
  "nbformat_minor": 0,
  "metadata": {
    "kernelspec": {
      "display_name": "Python 3",
      "name": "python3"
    },
    "language_info": {
      "codemirror_mode": {
        "name": "ipython",
        "version": 3
      },
      "file_extension": ".py",
      "mimetype": "text/x-python",
      "name": "python",
      "nbconvert_exporter": "python",
      "pygments_lexer": "ipython3",
      "version": "3.6.9"
    },
    "colab": {
      "provenance": [],
      "gpuType": "V28",
      "include_colab_link": true
    },
    "accelerator": "TPU"
  },
  "cells": [
    {
      "cell_type": "markdown",
      "metadata": {
        "id": "view-in-github",
        "colab_type": "text"
      },
      "source": [
        "<a href=\"https://colab.research.google.com/github/jglombitza/tutorial_nn_airshowers/blob/main/point_cloud_transformer.ipynb\" target=\"_parent\"><img src=\"https://colab.research.google.com/assets/colab-badge.svg\" alt=\"Open In Colab\"/></a>"
      ]
    },
    {
      "cell_type": "markdown",
      "metadata": {
        "id": "zhevd7m4MEoT"
      },
      "source": [
        "# Air-shower reconstruction using a convolutional point cloud transformer\n",
        "## Cosmic-ray observatory\n",
        "In this example, we will train a neural network to reconstruct air-shower properties measured by a hypothetic cosmic-ray observatory located at a height of 1400 m. The observatory features a cartesian array of 14 x 14 particle detectors with a distance of 750 m.\n",
        "Thus, the measured data contain the simulated detector responses from secondary particles of the cosmic-ray induced air shower that interact with the ground-based observatory.  \n",
        "\n",
        "Each particle detector measures two quantities that are stored in the form of a cartesian image (2D array with 14 x 14 pixels)\n",
        "- arrival time `T`: arrival time of the first particles\n",
        "- signal `S`: integrated signal\n",
        "\n",
        "To make use of an efficient point cloud transformer\n",
        "- we use only the triggered stations per event\n",
        "\n",
        "In this task, we are interested in reconstructing the cosmic-ray energy in EeV (exaelectronvolt = $10^{18}~\\mathrm{eV}$) using the measured particle footprint and a convolutional neural network.\n",
        "\n",
        "\n",
        "# Preparation:\n",
        "**Enable a GPU for this task.**  \n",
        "Therefore, click:\n",
        "*Edit* -> *Notebook settings* -> *select GPU* as *Hardware accelerator*\n",
        "\n",
        "# References\n",
        "The tutorial is inspired by the simulation and the study performed in https://doi.org/10.1016/j.astropartphys.2017.10.006.  \n",
        "\n",
        "For more examples, see www.deeplearningphysics.org."
      ]
    },
    {
      "cell_type": "code",
      "metadata": {
        "id": "dc1W4fDQMEoZ",
        "colab": {
          "base_uri": "https://localhost:8080/"
        },
        "outputId": "70ebf757-f566-4f6c-fc3a-30d0fddefcd5"
      },
      "source": [
        "import tensorflow as tf\n",
        "from tensorflow import keras\n",
        "import numpy as np\n",
        "import seaborn as sns\n",
        "from matplotlib import pyplot as plt\n",
        "\n",
        "layers = keras.layers\n",
        "\n",
        "print(\"keras\", keras)\n",
        "print(\"tf\", tf.__version__)\n"
      ],
      "execution_count": 1,
      "outputs": [
        {
          "output_type": "stream",
          "name": "stdout",
          "text": [
            "keras <KerasLazyLoader (keras_2) keras.api._v2.keras as keras mode=None>\n",
            "tf 2.15.0\n"
          ]
        }
      ]
    },
    {
      "cell_type": "markdown",
      "metadata": {
        "id": "qlKbYg4eMEod"
      },
      "source": [
        "---\n",
        "# Data\n",
        "### Download data\n",
        "As a first step, we have to download the simulated air shower data."
      ]
    },
    {
      "cell_type": "code",
      "metadata": {
        "id": "afCf7h-HMEoe"
      },
      "source": [
        "import os\n",
        "import gdown\n",
        "url = \"https://drive.google.com/u/0/uc?export=download&confirm=HgGH&id=19gOSVQ0mhdjMkm5i2u5NsGrWNBdlhR4F\"\n",
        "output = 'airshowers_mnist.npz'\n",
        "\n",
        "if os.path.exists(output) == False:\n",
        "    gdown.download(url, output, quiet=False)\n",
        "\n",
        "f = np.load(output)"
      ],
      "execution_count": 2,
      "outputs": []
    },
    {
      "cell_type": "markdown",
      "metadata": {
        "id": "kA707hclMEoj"
      },
      "source": [
        "### Input 1: Measured signals\n",
        "In the following, we inspect the measured signals of the detectors.  \n",
        "Remember that each input has the shape of 14 x 14, as each station measures a specific arrival time.\n",
        "\n",
        "We process the signal using a logarithmic re-scaling."
      ]
    },
    {
      "cell_type": "code",
      "source": [
        "# signal map\n",
        "S_ = f['signal']\n",
        "S_ = np.log10(1 + S_)\n",
        "S_ -= np.nanmin(S_)\n",
        "S_ /= np.nanmax(S_)\n",
        "S_[np.isnan(S_)] = 0\n",
        "\n",
        "print(S_.shape)"
      ],
      "metadata": {
        "colab": {
          "base_uri": "https://localhost:8080/"
        },
        "id": "FO3t0rHdbBWu",
        "outputId": "1b5e3739-2e03-45b1-c9f4-f53ff509ddc5"
      },
      "execution_count": 3,
      "outputs": [
        {
          "output_type": "stream",
          "name": "stdout",
          "text": [
            "(100000, 14, 14)\n"
          ]
        }
      ]
    },
    {
      "cell_type": "markdown",
      "source": [
        "### Input 2: Arrival times\n",
        "Our first input is the arrival times of the first shower particles, measured at the various stations.\n",
        "Again, we have 14 x 14 measurements (a few are zero as no signal was measured) that form a single event.\n",
        "\n",
        "We normalize the arrival times with respect to the mean and the standard deviation of the arrival time distribution."
      ],
      "metadata": {
        "id": "MF1K8K7tcH-o"
      }
    },
    {
      "cell_type": "code",
      "source": [
        "# time map\n",
        "T_ = f['time']\n",
        "T_ -= np.nanmean(T_)\n",
        "T_ /= np.nanstd(T_)\n",
        "T_[np.isnan(T_)] = 0\n",
        "\n",
        "print(T_.shape)"
      ],
      "metadata": {
        "colab": {
          "base_uri": "https://localhost:8080/"
        },
        "id": "yrJauFeAcDcG",
        "outputId": "f1223473-f189-488d-a1e9-574ecd8435b9"
      },
      "execution_count": 4,
      "outputs": [
        {
          "output_type": "stream",
          "name": "stdout",
          "text": [
            "(100000, 14, 14)\n"
          ]
        }
      ]
    },
    {
      "cell_type": "markdown",
      "source": [
        "# Create point cloud\n",
        "In the following we only consider trigger stations.\n",
        "Thus, we use a point cloud for each event.\n",
        "\n",
        "This point cloud, which contains per event of a different number of tanks, will be used as the sequence to be exploited by the point cloud transformer."
      ],
      "metadata": {
        "id": "CixGxKWjcL_q"
      }
    },
    {
      "cell_type": "code",
      "source": [
        "def rectangular_array(n=14):\n",
        "    \"\"\" Return x,y coordinates for rectangular array with n^2 stations. \"\"\"\n",
        "    n0 = (n - 1) / 2\n",
        "    return (np.mgrid[0:n, 0:n].astype(float) - n0)\n",
        "\n",
        "x_pos, y_pos = rectangular_array()\n",
        "\n",
        "x_list = []\n",
        "y_list = []\n",
        "S_list = []\n",
        "T_list = []\n",
        "\n",
        "for rowS, rowT in zip(S_, T_):\n",
        "    m = rowS != 0\n",
        "    x_pos_ = np.array(x_pos)[m][:, np.newaxis] / x_pos.std()\n",
        "    y_pos_ = np.array(y_pos)[m][:, np.newaxis] / y_pos.std()\n",
        "    S_list.append(np.array(rowS)[m][:, np.newaxis])\n",
        "    T_list.append(np.array(rowT)[m][:, np.newaxis])\n",
        "    x_list.append(np.array(x_pos_))\n",
        "    y_list.append(np.array(y_pos_))\n",
        "\n",
        "print(\"length\", len(S_list))"
      ],
      "metadata": {
        "colab": {
          "base_uri": "https://localhost:8080/"
        },
        "id": "BxQL43rvaTh8",
        "outputId": "9afd1264-e60b-4f1e-c6ab-524c7c34332a"
      },
      "execution_count": 5,
      "outputs": [
        {
          "output_type": "stream",
          "name": "stdout",
          "text": [
            "length 100000\n"
          ]
        }
      ]
    },
    {
      "cell_type": "code",
      "source": [],
      "metadata": {
        "id": "ivAnnALLgUIL"
      },
      "execution_count": 5,
      "outputs": []
    },
    {
      "cell_type": "markdown",
      "metadata": {
        "id": "8MH4JaVhM0AA"
      },
      "source": [
        "#### Plot four example events\n",
        "We can now plot 4 random example events and their signal footprint."
      ]
    },
    {
      "cell_type": "code",
      "metadata": {
        "id": "AAS9bA1kMEom",
        "colab": {
          "base_uri": "https://localhost:8080/",
          "height": 707
        },
        "outputId": "80e9b9ab-9a1f-4db1-cc7a-15d612bbaa0c"
      },
      "source": [
        "nsamples = len(S_list)\n",
        "random_samples = np.random.choice(nsamples, 4)\n",
        "\n",
        "plt.figure(figsize=(9,7))\n",
        "\n",
        "for i,j in enumerate(random_samples):\n",
        "    plt.subplot(2,2,i+1)\n",
        "    xd, yd = x_list[j] * x_pos.std() , y_list[j] * y_pos.std()\n",
        "    footprint = S_list[j]\n",
        "    marker_size = 130 * footprint + 20\n",
        "    circles = plt.scatter(xd, yd, c=footprint, s=marker_size,\n",
        "                          cmap=\"autumn_r\", alpha=1, label=\"loud\",\n",
        "                          edgecolors=\"k\", linewidths=0.4)\n",
        "    cbar = plt.colorbar(circles)\n",
        "    cbar.set_label('normalized time [a.u.]')\n",
        "    plt.xlabel(\"x / km\")\n",
        "    plt.ylabel(\"y / km\")\n",
        "    plt.grid(True)\n",
        "    plt.xlim(-7, 7)\n",
        "    plt.ylim(-7, 7)\n",
        "\n",
        "plt.tight_layout()\n",
        "plt.show()"
      ],
      "execution_count": 6,
      "outputs": [
        {
          "output_type": "display_data",
          "data": {
            "text/plain": [
              "<Figure size 900x700 with 8 Axes>"
            ],
            "image/png": "[encoded data removed]"
          },
          "metadata": {}
        }
      ]
    },
    {
      "cell_type": "markdown",
      "metadata": {
        "id": "3p35M05lMEoh"
      },
      "source": [
        "#### Plot four example maps\n",
        "We now visualize a map of arrival times. Here, the dark blue indicates an early trigger and a bright yellow a late trigger.  \n",
        "With this information, one can directly get an impression of the shower axis (arrival direction) of the arriving particle shower."
      ]
    },
    {
      "cell_type": "code",
      "source": [
        "plt.figure(figsize=(9,7))\n",
        "\n",
        "for i,j in enumerate(random_samples):\n",
        "    plt.subplot(2,2,i+1)\n",
        "    xd, yd = x_list[j] * np.std(x_pos), y_list[j] * np.std(y_pos)\n",
        "    footprint = 50 * T_list[j]\n",
        "    circles = plt.scatter(xd, yd, c=footprint,\n",
        "                          cmap=\"viridis\", alpha=1, label=\"loud\",\n",
        "                          edgecolors=\"k\", linewidths=0.3)\n",
        "    cbar = plt.colorbar(circles)\n",
        "    cbar.set_label('normalized time [a.u.]')\n",
        "    plt.xlabel(\"x / km\")\n",
        "    plt.ylabel(\"y / km\")\n",
        "    plt.grid(True)\n",
        "    plt.xlim(-7, 7)\n",
        "    plt.ylim(-7, 7)\n",
        "\n",
        "plt.tight_layout()\n",
        "plt.show()"
      ],
      "metadata": {
        "id": "5CqG6VRaKCid",
        "outputId": "3440a0c7-a000-49be-fb8e-3d7710f1823a",
        "colab": {
          "base_uri": "https://localhost:8080/",
          "height": 706
        }
      },
      "execution_count": 7,
      "outputs": [
        {
          "output_type": "display_data",
          "data": {
            "text/plain": [
              "<Figure size 900x700 with 8 Axes>"
            ],
            "image/png": "[encoded data removed]"
          },
          "metadata": {}
        }
      ]
    },
    {
      "cell_type": "markdown",
      "metadata": {
        "id": "5xk9pp_2MEon"
      },
      "source": [
        "### Labels\n",
        "Now, we can prepare the targets of our neural network training."
      ]
    },
    {
      "cell_type": "code",
      "metadata": {
        "id": "t3TMaOzfMEoo",
        "colab": {
          "base_uri": "https://localhost:8080/"
        },
        "outputId": "32882626-42b4-48b1-ac50-15d75b2a736f"
      },
      "source": [
        "# energy - log10(E/eV) in range 3 - 100 EeV\n",
        "energy = f['energy'][:, np.newaxis]\n",
        "print(energy)"
      ],
      "execution_count": 8,
      "outputs": [
        {
          "output_type": "stream",
          "name": "stdout",
          "text": [
            "[[ 4.00461776]\n",
            " [ 5.99159294]\n",
            " [ 7.49367551]\n",
            " ...\n",
            " [10.81657107]\n",
            " [ 5.07542798]\n",
            " [43.32910954]]\n"
          ]
        }
      ]
    },
    {
      "cell_type": "markdown",
      "metadata": {
        "id": "7AXjf80PRHnx"
      },
      "source": [
        "---\n",
        "#### Training and test data\n",
        "We further split the data into one large training set and a smaller test set. This test set is used for the final evaluation of the model and is only used once to ensure an unbiased performance measure.\n",
        "\n",
        "\n",
        "We make use of the powerful `Tensorflow Dataset`class."
      ]
    },
    {
      "cell_type": "code",
      "source": [
        "n_train = int(0.7 * nsamples)\n",
        "n_valid = int(0.1 * nsamples)\n",
        "n_test = int(0.2 * nsamples)"
      ],
      "metadata": {
        "id": "SEmQDmRgEgSH"
      },
      "execution_count": 9,
      "outputs": []
    },
    {
      "cell_type": "code",
      "source": [
        "# Create TF Dataset\n",
        "def gen(type_):\n",
        "    if type_ == \"test\":\n",
        "        n_ = range(0, n_test)\n",
        "    elif type_ == \"valid\":\n",
        "        n_ = range(n_test, n_train+n_test)\n",
        "    else:\n",
        "        n_ = range(n_train+n_test, n_train+n_test+n_valid)\n",
        "\n",
        "    while True:\n",
        "        for i in n_:\n",
        "            yield {\"signal\": S_list[i], \"time\": T_list[i], \"x_pos\": x_list[i], \"y_pos\": y_list[i]}, {\"energy\": energy[i]}\n",
        "\n",
        "train_dataset = tf.data.Dataset.from_generator(\n",
        "    lambda: gen(\"train\"),\n",
        "    output_signature=(\n",
        "        {\"signal\": tf.TensorSpec(shape=(None, 1), dtype=tf.float32),\"time\": tf.TensorSpec(shape=(None, 1), dtype=tf.float32),\n",
        "         \"x_pos\": tf.TensorSpec(shape=(None, 1), dtype=tf.float32),\"y_pos\": tf.TensorSpec(shape=(None, 1), dtype=tf.float32)\n",
        "        },\n",
        "        {\n",
        "         \"energy\": tf.TensorSpec(shape=(1,), dtype=tf.float32)\n",
        "        }\n",
        "    )\n",
        ")\n",
        "\n",
        "\n",
        "# Example of how to iterate through the dataset\n",
        "for elem in train_dataset.take(1):\n",
        "    print(\"feature inputs\", elem[0].keys())\n",
        "    print(\"label inputs\", elem[1].keys())"
      ],
      "metadata": {
        "colab": {
          "base_uri": "https://localhost:8080/"
        },
        "id": "fFda1YW3d6HA",
        "outputId": "15465b27-9dfc-4453-e4e7-49a3a39a29f5"
      },
      "execution_count": 10,
      "outputs": [
        {
          "output_type": "stream",
          "name": "stdout",
          "text": [
            "feature inputs dict_keys(['signal', 'time', 'x_pos', 'y_pos'])\n",
            "label inputs dict_keys(['energy'])\n"
          ]
        }
      ]
    },
    {
      "cell_type": "code",
      "source": [
        "valid_dataset = tf.data.Dataset.from_generator(\n",
        "    lambda: gen(\"valid\"),\n",
        "    output_signature=(\n",
        "        {\"signal\": tf.TensorSpec(shape=(None, 1), dtype=tf.float32),\"time\": tf.TensorSpec(shape=(None, 1), dtype=tf.float32),\n",
        "         \"x_pos\": tf.TensorSpec(shape=(None, 1), dtype=tf.float32),\"y_pos\": tf.TensorSpec(shape=(None, 1), dtype=tf.float32)\n",
        "        },\n",
        "        {\n",
        "        \"energy\": tf.TensorSpec(shape=(1,), dtype=tf.float32)\n",
        "        }\n",
        "    )\n",
        ")\n",
        "\n",
        "\n",
        "test_dataset = tf.data.Dataset.from_generator(\n",
        "    lambda: gen(\"test\"),\n",
        "    output_signature=(\n",
        "        {\"signal\": tf.TensorSpec(shape=(None, 1), dtype=tf.float32),\"time\": tf.TensorSpec(shape=(None, 1), dtype=tf.float32),\n",
        "         \"x_pos\": tf.TensorSpec(shape=(None, 1), dtype=tf.float32),\"y_pos\": tf.TensorSpec(shape=(None, 1), dtype=tf.float32)\n",
        "        },\n",
        "        {\n",
        "        \"energy\": tf.TensorSpec(shape=(1,), dtype=tf.float32)\n",
        "        }\n",
        "    )\n",
        ")"
      ],
      "metadata": {
        "id": "j9j8O4oEjOEV"
      },
      "execution_count": 11,
      "outputs": []
    },
    {
      "cell_type": "markdown",
      "source": [
        "## Padding the batches\n",
        "We now create a padded batch, i.e., we pick $b_n$ sequences to form a batch.\n",
        "However, since the sequences have different lengths, we have to padd with zeros (fill up the arrays)."
      ],
      "metadata": {
        "id": "pyLschLbB6Hi"
      }
    },
    {
      "cell_type": "code",
      "source": [
        "# Create batch with 16 sequences\n",
        "BATCH_SIZE = 64\n",
        "padded_train_dataset = train_dataset.padded_batch(BATCH_SIZE)\n",
        "padded_valid_dataset = train_dataset.padded_batch(BATCH_SIZE)\n",
        "padded_test_dataset = train_dataset.padded_batch(BATCH_SIZE)\n",
        "\n",
        "# shape is: [batchsize, n_trig, 1] (last axis is dummy axis, needed by keras)\n",
        "for i, elem in enumerate(padded_train_dataset.take(2)):\n",
        "    print(\"\\n batch:\", i)\n",
        "    print({k: val.shape for k, val in elem[0].items()})\n",
        "    print({k: val.shape for k, val in elem[1].items()})\n"
      ],
      "metadata": {
        "colab": {
          "base_uri": "https://localhost:8080/"
        },
        "id": "j1FlZmLrBB8n",
        "outputId": "55915641-b078-42d0-b471-c4b55573d36e"
      },
      "execution_count": 12,
      "outputs": [
        {
          "output_type": "stream",
          "name": "stdout",
          "text": [
            "\n",
            " batch: 0\n",
            "{'signal': TensorShape([64, 73, 1]), 'time': TensorShape([64, 73, 1]), 'x_pos': TensorShape([64, 73, 1]), 'y_pos': TensorShape([64, 73, 1])}\n",
            "{'energy': TensorShape([64, 1])}\n",
            "\n",
            " batch: 1\n",
            "{'signal': TensorShape([64, 68, 1]), 'time': TensorShape([64, 68, 1]), 'x_pos': TensorShape([64, 68, 1]), 'y_pos': TensorShape([64, 68, 1])}\n",
            "{'energy': TensorShape([64, 1])}\n"
          ]
        }
      ]
    },
    {
      "cell_type": "code",
      "source": [
        "print(\"\\n signal sequence for first sample in batch\")\n",
        "print(elem[0][\"signal\"][0])  # will be most-likely (of the event isn't the one with most triggered stations) zero-padded"
      ],
      "metadata": {
        "colab": {
          "base_uri": "https://localhost:8080/"
        },
        "id": "vO6AKcZJC70Y",
        "outputId": "1108df50-f050-46ca-9107-a29171181493"
      },
      "execution_count": 13,
      "outputs": [
        {
          "output_type": "stream",
          "name": "stdout",
          "text": [
            "\n",
            " signal sequence for first sample in batch\n",
            "tf.Tensor(\n",
            "[[6.8942802e-03]\n",
            " [1.2721226e-02]\n",
            " [5.5985339e-04]\n",
            " [1.5650202e-02]\n",
            " [6.6428006e-02]\n",
            " [1.0954991e-01]\n",
            " [8.7760568e-02]\n",
            " [3.6164097e-02]\n",
            " [1.4917561e-02]\n",
            " [3.1329948e-03]\n",
            " [6.5658823e-02]\n",
            " [1.9414279e-01]\n",
            " [3.5238773e-01]\n",
            " [3.2335499e-01]\n",
            " [1.6344681e-01]\n",
            " [4.1046653e-02]\n",
            " [6.9947197e-04]\n",
            " [8.6794496e-03]\n",
            " [8.5002929e-02]\n",
            " [3.0840725e-01]\n",
            " [8.0092013e-01]\n",
            " [7.9227573e-01]\n",
            " [3.0103919e-01]\n",
            " [8.8541500e-02]\n",
            " [2.4540591e-04]\n",
            " [1.8466896e-03]\n",
            " [7.1876496e-02]\n",
            " [2.4687392e-01]\n",
            " [5.7321346e-01]\n",
            " [6.3622969e-01]\n",
            " [2.9473826e-01]\n",
            " [9.1138691e-02]\n",
            " [3.0397361e-02]\n",
            " [9.9238999e-02]\n",
            " [2.1126737e-01]\n",
            " [2.3741099e-01]\n",
            " [1.4561130e-01]\n",
            " [4.3561872e-02]\n",
            " [4.3761867e-04]\n",
            " [1.9150633e-02]\n",
            " [4.6891194e-02]\n",
            " [5.6912865e-02]\n",
            " [4.0039178e-02]\n",
            " [1.4132423e-02]\n",
            " [1.4356622e-03]\n",
            " [5.1059639e-03]\n",
            " [4.2652572e-03]\n",
            " [0.0000000e+00]\n",
            " [0.0000000e+00]\n",
            " [0.0000000e+00]\n",
            " [0.0000000e+00]\n",
            " [0.0000000e+00]\n",
            " [0.0000000e+00]\n",
            " [0.0000000e+00]\n",
            " [0.0000000e+00]\n",
            " [0.0000000e+00]\n",
            " [0.0000000e+00]\n",
            " [0.0000000e+00]\n",
            " [0.0000000e+00]\n",
            " [0.0000000e+00]\n",
            " [0.0000000e+00]\n",
            " [0.0000000e+00]\n",
            " [0.0000000e+00]\n",
            " [0.0000000e+00]\n",
            " [0.0000000e+00]\n",
            " [0.0000000e+00]\n",
            " [0.0000000e+00]\n",
            " [0.0000000e+00]], shape=(68, 1), dtype=float32)\n"
          ]
        }
      ]
    },
    {
      "cell_type": "markdown",
      "metadata": {
        "id": "hPuYYDR1MEoq"
      },
      "source": [
        "---\n",
        "## Define Model\n",
        "Now, we will set up a neural network to reconstruct the energy of the particle shower. In this **define step** we will set the architecture of the model.\n",
        "\n",
        "\n",
        "> **Modification section**  \n",
        "> Feel free to modify the model.\n",
        "> For example:\n",
        ">\n",
        "\n"
      ]
    },
    {
      "cell_type": "code",
      "source": [
        "n_embed = 64\n",
        "mlp_units = [n_embed * 2, n_embed]\n",
        "n_tansformerblocks = 4\n",
        "\n",
        "def mlp(x, hidden_units, dropout_rate=0.0):\n",
        "    for units in hidden_units:\n",
        "        x = layers.Dense(units, activation=keras.activations.gelu)(x)\n",
        "        x = layers.Dropout(dropout_rate)(x)\n",
        "    return x"
      ],
      "metadata": {
        "id": "e9N9UIM6EGWW"
      },
      "execution_count": 14,
      "outputs": []
    },
    {
      "cell_type": "code",
      "metadata": {
        "id": "osFl4FlNMEor",
        "outputId": "68021846-e5da-4677-8573-e13cc5c3896e",
        "colab": {
          "base_uri": "https://localhost:8080/"
        }
      },
      "source": [
        "from tensorflow.keras import layers, models, Input\n",
        "\n",
        "# Define inputs\n",
        "signal_input = Input(shape=(None, 1), name=\"signal\")\n",
        "time_input = Input(shape=(None, 1), name=\"time\")\n",
        "posx_input = Input(shape=(None, 1), name=\"x_pos\")\n",
        "posy_input = Input(shape=(None, 1), name=\"y_pos\")\n",
        "\n",
        "# Mask inputs --> will mask the padded values\n",
        "masked_signals = layers.Masking(mask_value=0.0)(signal_input)\n",
        "masked_times = layers.Masking(mask_value=0.0)(time_input)\n",
        "masked_posx = layers.Masking(mask_value=0.0)(posx_input)\n",
        "masked_posy = layers.Masking(mask_value=0.0)(posy_input)\n",
        "\n",
        "# Concatenate masked inputs\n",
        "masked_features = layers.Concatenate()([masked_signals, masked_times])\n",
        "masked_positions = layers.Concatenate()([masked_posx, masked_posy])\n",
        "\n",
        "# Embedding layers\n",
        "embedded_feat = layers.Dense(n_embed)(masked_features)\n",
        "embedded_pos = layers.Dense(n_embed)(masked_positions)\n",
        "x1 = embedded_feat + embedded_pos\n",
        "\n",
        "cls_token = tf.Variable(tf.zeros((1, 1, n_embed)), trainable=True, name='cls_token')\n",
        "cls_token = tf.tile(cls_token, [tf.shape(x1)[0], 1, 1])  # Tile to batch size\n",
        "\n",
        "# Concatenate the [CLS] token with the input embeddings\n",
        "x1 = tf.concat([cls_token, x1], axis=1)\n",
        "\n",
        "# Transformer blocks\n",
        "for _ in range(n_tansformerblocks):\n",
        "    attention_output = layers.MultiHeadAttention(num_heads=4, key_dim=32)(x1, x1)\n",
        "    x2 = layers.Add()([attention_output, x1])\n",
        "    x3 = layers.LayerNormalization(epsilon=1e-6)(x2)\n",
        "    x4 = mlp(x3, hidden_units=mlp_units)\n",
        "    x1 = layers.LayerNormalization(epsilon=1e-6)(layers.Add()([x3, x4]))\n",
        "\n",
        "# Global average pooling and output layer --> remove dependency on number of triggered tanks\n",
        "cls_output = x1[:, 0, :]  # Extract the first token (CLS token) across the batch\n",
        "\n",
        "# Further processing\n",
        "x = layers.LayerNormalization(epsilon=1e-6)(cls_output)\n",
        "x = layers.Dense(n_embed * 2, activation=\"elu\")(x)\n",
        "x = layers.Dropout(0.2)(x)\n",
        "pre = layers.Dense(1, activation=\"linear\", name=\"pre\")(x)\n",
        "output = layers.Lambda(lambda x: np.std(energy.squeeze()) * x + np.mean(energy.squeeze()), name=\"energy\")(pre)  # normalize labels\n",
        "\n",
        "# Define and compile model\n",
        "model = models.Model(inputs={\"signal\": signal_input, \"time\": time_input, \"x_pos\": posx_input, \"y_pos\": posy_input},\n",
        "                     outputs={\"energy\": output})\n"
      ],
      "execution_count": 15,
      "outputs": [
        {
          "output_type": "stream",
          "name": "stderr",
          "text": [
            "WARNING:tensorflow:The following Variables were used in a Lambda layer's call (tf.tile), but are not present in its tracked objects:   <tf.Variable 'cls_token:0' shape=(1, 1, 64) dtype=float32>. This is a strong indication that the Lambda layer should be rewritten as a subclassed Layer.\n"
          ]
        }
      ]
    },
    {
      "cell_type": "markdown",
      "metadata": {
        "id": "kYCXaKAlTnY4"
      },
      "source": [
        "We can have a deeper look at our designed model and inspect the number of adaptive parameters by printing the model `summary`."
      ]
    },
    {
      "cell_type": "code",
      "metadata": {
        "id": "gI2q65DlTvow",
        "colab": {
          "base_uri": "https://localhost:8080/"
        },
        "outputId": "a18a46b4-e3b9-44f3-ca6d-f7466ff23019"
      },
      "source": [
        "print(model.summary())"
      ],
      "execution_count": 16,
      "outputs": [
        {
          "output_type": "stream",
          "name": "stdout",
          "text": [
            "Model: \"model\"\n",
            "__________________________________________________________________________________________________\n",
            " Layer (type)                Output Shape                 Param #   Connected to                  \n",
            "==================================================================================================\n",
            " signal (InputLayer)         [(None, None, 1)]            0         []                            \n",
            "                                                                                                  \n",
            " time (InputLayer)           [(None, None, 1)]            0         []                            \n",
            "                                                                                                  \n",
            " x_pos (InputLayer)          [(None, None, 1)]            0         []                            \n",
            "                                                                                                  \n",
            " y_pos (InputLayer)          [(None, None, 1)]            0         []                            \n",
            "                                                                                                  \n",
            " masking (Masking)           (None, None, 1)              0         ['signal[0][0]']              \n",
            "                                                                                                  \n",
            " masking_1 (Masking)         (None, None, 1)              0         ['time[0][0]']                \n",
            "                                                                                                  \n",
            " masking_2 (Masking)         (None, None, 1)              0         ['x_pos[0][0]']               \n",
            "                                                                                                  \n",
            " masking_3 (Masking)         (None, None, 1)              0         ['y_pos[0][0]']               \n",
            "                                                                                                  \n",
            " concatenate (Concatenate)   (None, None, 2)              0         ['masking[0][0]',             \n",
            "                                                                     'masking_1[0][0]']           \n",
            "                                                                                                  \n",
            " concatenate_1 (Concatenate  (None, None, 2)              0         ['masking_2[0][0]',           \n",
            " )                                                                   'masking_3[0][0]']           \n",
            "                                                                                                  \n",
            " dense (Dense)               (None, None, 64)             192       ['concatenate[0][0]']         \n",
            "                                                                                                  \n",
            " dense_1 (Dense)             (None, None, 64)             192       ['concatenate_1[0][0]']       \n",
            "                                                                                                  \n",
            " tf.__operators__.add (TFOp  (None, None, 64)             0         ['dense[0][0]',               \n",
            " Lambda)                                                             'dense_1[0][0]']             \n",
            "                                                                                                  \n",
            " tf.compat.v1.shape (TFOpLa  (3,)                         0         ['tf.__operators__.add[0][0]']\n",
            " mbda)                                                                                            \n",
            "                                                                                                  \n",
            " tf.__operators__.getitem (  ()                           0         ['tf.compat.v1.shape[0][0]']  \n",
            " SlicingOpLambda)                                                                                 \n",
            "                                                                                                  \n",
            " tf.tile (TFOpLambda)        (None, 1, 64)                0         ['tf.__operators__.getitem[0][\n",
            "                                                                    0]']                          \n",
            "                                                                                                  \n",
            " tf.concat (TFOpLambda)      (None, None, 64)             0         ['tf.tile[0][0]',             \n",
            "                                                                     'tf.__operators__.add[0][0]']\n",
            "                                                                                                  \n",
            " multi_head_attention (Mult  (None, None, 64)             33216     ['tf.concat[0][0]',           \n",
            " iHeadAttention)                                                     'tf.concat[0][0]']           \n",
            "                                                                                                  \n",
            " add (Add)                   (None, None, 64)             0         ['multi_head_attention[0][0]',\n",
            "                                                                     'tf.concat[0][0]']           \n",
            "                                                                                                  \n",
            " layer_normalization (Layer  (None, None, 64)             128       ['add[0][0]']                 \n",
            " Normalization)                                                                                   \n",
            "                                                                                                  \n",
            " dense_2 (Dense)             (None, None, 128)            8320      ['layer_normalization[0][0]'] \n",
            "                                                                                                  \n",
            " dropout (Dropout)           (None, None, 128)            0         ['dense_2[0][0]']             \n",
            "                                                                                                  \n",
            " dense_3 (Dense)             (None, None, 64)             8256      ['dropout[0][0]']             \n",
            "                                                                                                  \n",
            " dropout_1 (Dropout)         (None, None, 64)             0         ['dense_3[0][0]']             \n",
            "                                                                                                  \n",
            " add_1 (Add)                 (None, None, 64)             0         ['layer_normalization[0][0]', \n",
            "                                                                     'dropout_1[0][0]']           \n",
            "                                                                                                  \n",
            " layer_normalization_1 (Lay  (None, None, 64)             128       ['add_1[0][0]']               \n",
            " erNormalization)                                                                                 \n",
            "                                                                                                  \n",
            " multi_head_attention_1 (Mu  (None, None, 64)             33216     ['layer_normalization_1[0][0]'\n",
            " ltiHeadAttention)                                                  , 'layer_normalization_1[0][0]\n",
            "                                                                    ']                            \n",
            "                                                                                                  \n",
            " add_2 (Add)                 (None, None, 64)             0         ['multi_head_attention_1[0][0]\n",
            "                                                                    ',                            \n",
            "                                                                     'layer_normalization_1[0][0]'\n",
            "                                                                    ]                             \n",
            "                                                                                                  \n",
            " layer_normalization_2 (Lay  (None, None, 64)             128       ['add_2[0][0]']               \n",
            " erNormalization)                                                                                 \n",
            "                                                                                                  \n",
            " dense_4 (Dense)             (None, None, 128)            8320      ['layer_normalization_2[0][0]'\n",
            "                                                                    ]                             \n",
            "                                                                                                  \n",
            " dropout_2 (Dropout)         (None, None, 128)            0         ['dense_4[0][0]']             \n",
            "                                                                                                  \n",
            " dense_5 (Dense)             (None, None, 64)             8256      ['dropout_2[0][0]']           \n",
            "                                                                                                  \n",
            " dropout_3 (Dropout)         (None, None, 64)             0         ['dense_5[0][0]']             \n",
            "                                                                                                  \n",
            " add_3 (Add)                 (None, None, 64)             0         ['layer_normalization_2[0][0]'\n",
            "                                                                    , 'dropout_3[0][0]']          \n",
            "                                                                                                  \n",
            " layer_normalization_3 (Lay  (None, None, 64)             128       ['add_3[0][0]']               \n",
            " erNormalization)                                                                                 \n",
            "                                                                                                  \n",
            " multi_head_attention_2 (Mu  (None, None, 64)             33216     ['layer_normalization_3[0][0]'\n",
            " ltiHeadAttention)                                                  , 'layer_normalization_3[0][0]\n",
            "                                                                    ']                            \n",
            "                                                                                                  \n",
            " add_4 (Add)                 (None, None, 64)             0         ['multi_head_attention_2[0][0]\n",
            "                                                                    ',                            \n",
            "                                                                     'layer_normalization_3[0][0]'\n",
            "                                                                    ]                             \n",
            "                                                                                                  \n",
            " layer_normalization_4 (Lay  (None, None, 64)             128       ['add_4[0][0]']               \n",
            " erNormalization)                                                                                 \n",
            "                                                                                                  \n",
            " dense_6 (Dense)             (None, None, 128)            8320      ['layer_normalization_4[0][0]'\n",
            "                                                                    ]                             \n",
            "                                                                                                  \n",
            " dropout_4 (Dropout)         (None, None, 128)            0         ['dense_6[0][0]']             \n",
            "                                                                                                  \n",
            " dense_7 (Dense)             (None, None, 64)             8256      ['dropout_4[0][0]']           \n",
            "                                                                                                  \n",
            " dropout_5 (Dropout)         (None, None, 64)             0         ['dense_7[0][0]']             \n",
            "                                                                                                  \n",
            " add_5 (Add)                 (None, None, 64)             0         ['layer_normalization_4[0][0]'\n",
            "                                                                    , 'dropout_5[0][0]']          \n",
            "                                                                                                  \n",
            " layer_normalization_5 (Lay  (None, None, 64)             128       ['add_5[0][0]']               \n",
            " erNormalization)                                                                                 \n",
            "                                                                                                  \n",
            " multi_head_attention_3 (Mu  (None, None, 64)             33216     ['layer_normalization_5[0][0]'\n",
            " ltiHeadAttention)                                                  , 'layer_normalization_5[0][0]\n",
            "                                                                    ']                            \n",
            "                                                                                                  \n",
            " add_6 (Add)                 (None, None, 64)             0         ['multi_head_attention_3[0][0]\n",
            "                                                                    ',                            \n",
            "                                                                     'layer_normalization_5[0][0]'\n",
            "                                                                    ]                             \n",
            "                                                                                                  \n",
            " layer_normalization_6 (Lay  (None, None, 64)             128       ['add_6[0][0]']               \n",
            " erNormalization)                                                                                 \n",
            "                                                                                                  \n",
            " dense_8 (Dense)             (None, None, 128)            8320      ['layer_normalization_6[0][0]'\n",
            "                                                                    ]                             \n",
            "                                                                                                  \n",
            " dropout_6 (Dropout)         (None, None, 128)            0         ['dense_8[0][0]']             \n",
            "                                                                                                  \n",
            " dense_9 (Dense)             (None, None, 64)             8256      ['dropout_6[0][0]']           \n",
            "                                                                                                  \n",
            " dropout_7 (Dropout)         (None, None, 64)             0         ['dense_9[0][0]']             \n",
            "                                                                                                  \n",
            " add_7 (Add)                 (None, None, 64)             0         ['layer_normalization_6[0][0]'\n",
            "                                                                    , 'dropout_7[0][0]']          \n",
            "                                                                                                  \n",
            " layer_normalization_7 (Lay  (None, None, 64)             128       ['add_7[0][0]']               \n",
            " erNormalization)                                                                                 \n",
            "                                                                                                  \n",
            " tf.__operators__.getitem_1  (None, 64)                   0         ['layer_normalization_7[0][0]'\n",
            "  (SlicingOpLambda)                                                 ]                             \n",
            "                                                                                                  \n",
            " layer_normalization_8 (Lay  (None, 64)                   128       ['tf.__operators__.getitem_1[0\n",
            " erNormalization)                                                   ][0]']                        \n",
            "                                                                                                  \n",
            " dense_10 (Dense)            (None, 128)                  8320      ['layer_normalization_8[0][0]'\n",
            "                                                                    ]                             \n",
            "                                                                                                  \n",
            " dropout_8 (Dropout)         (None, 128)                  0         ['dense_10[0][0]']            \n",
            "                                                                                                  \n",
            " pre (Dense)                 (None, 1)                    129       ['dropout_8[0][0]']           \n",
            "                                                                                                  \n",
            " energy (Lambda)             (None, 1)                    0         ['pre[0][0]']                 \n",
            "                                                                                                  \n",
            "==================================================================================================\n",
            "Total params: 209153 (817.00 KB)\n",
            "Trainable params: 209153 (817.00 KB)\n",
            "Non-trainable params: 0 (0.00 Byte)\n",
            "__________________________________________________________________________________________________\n",
            "None\n"
          ]
        }
      ]
    },
    {
      "cell_type": "markdown",
      "metadata": {
        "id": "LvP_7f3kT6qC"
      },
      "source": [
        "### Compile\n",
        "We now compile the model to prepare it for the training. During the **compile** step, we set a loss/objective function (`mean_squared_error`, as energy reconstruction is a regression task) and set an optimizer. In this case, we use the Adam optimizer with a learning rate of 0.001.\n",
        "To monitor the resolution and the bias of the model, we add them as a metric."
      ]
    },
    {
      "cell_type": "code",
      "metadata": {
        "id": "neGTmqafXVV2"
      },
      "source": [
        "def resolution(y_true, y_pred):\n",
        "    \"\"\" Metric to control for standart deviation \"\"\"\n",
        "    return tf.math.reduce_std(tf.squeeze(y_true) - tf.squeeze(y_pred))\n",
        "\n",
        "\n",
        "def bias(y_true, y_pred):\n",
        "    \"\"\" Metric to control for standart deviation \"\"\"\n",
        "    return tf.math.reduce_mean(tf.squeeze(y_true) - tf.squeeze(y_pred))"
      ],
      "execution_count": 17,
      "outputs": []
    },
    {
      "cell_type": "code",
      "metadata": {
        "id": "bgigKtfOMEor"
      },
      "source": [
        "model.compile(\n",
        "    loss='mean_squared_error',\n",
        "    metrics=[bias, resolution],\n",
        "    optimizer=keras.optimizers.Adam(learning_rate=3e-4))"
      ],
      "execution_count": 18,
      "outputs": []
    },
    {
      "cell_type": "markdown",
      "metadata": {
        "id": "1gO22y3jUfos"
      },
      "source": [
        "---\n",
        "### Training\n",
        "We can now run the training for 20 `epochs` (20-fold iteration over the dataset) using our training data `X_train` and our energy labels `energy_train`.\n",
        "For each iteration (calculating the gradients, updating the model parameters), we use 128 samples (`batch_size`).\n",
        "\n",
        "We furthermore can set the fraction of validation data (initially set to `0.1`) that is used to monitor overtraining.\n",
        "\n",
        "> **Modification section**  \n",
        "> Feel free to modify the training procedure, for example:\n",
        ">*   Change (increase) the number of `epochs`.\n",
        ">*   Modify the batch size via `batch_size`.\n"
      ]
    },
    {
      "cell_type": "code",
      "metadata": {
        "id": "uj1ecZz7MEos",
        "colab": {
          "base_uri": "https://localhost:8080/"
        },
        "outputId": "abfdb146-e2e5-49b7-8009-07c86b8610e1"
      },
      "source": [
        "epochs = 30\n",
        "fit = model.fit(padded_train_dataset, epochs=epochs, steps_per_epoch=n_train // BATCH_SIZE, batch_size=None,\n",
        "                validation_data=padded_valid_dataset, validation_steps=n_valid // BATCH_SIZE)"
      ],
      "execution_count": null,
      "outputs": [
        {
          "output_type": "stream",
          "name": "stdout",
          "text": [
            "Epoch 1/30\n",
            "1093/1093 [==============================] - 182s 159ms/step - loss: 180.9749 - bias: 0.0395 - resolution: 10.4635 - val_loss: 123.9462 - val_bias: -3.8081 - val_resolution: 8.4233\n",
            "Epoch 2/30\n",
            "1093/1093 [==============================] - 171s 157ms/step - loss: 116.2868 - bias: 0.0025 - resolution: 7.9956 - val_loss: 97.9444 - val_bias: 1.5401 - val_resolution: 7.7781\n",
            "Epoch 3/30\n",
            " 237/1093 [=====>........................] - ETA: 2:05 - loss: 104.9573 - bias: 0.0016 - resolution: 7.5877 "
          ]
        }
      ]
    },
    {
      "cell_type": "markdown",
      "metadata": {
        "id": "iknMUMavMEos"
      },
      "source": [
        "### Plot training curves"
      ]
    },
    {
      "cell_type": "code",
      "metadata": {
        "id": "iqt6hivFMEot"
      },
      "source": [
        "fig, ax = plt.subplots(1, figsize=(8,5))\n",
        "n = np.arange(len(fit.history['loss']))\n",
        "\n",
        "ax.plot(n, fit.history['loss'], ls='--', c='k', label='loss')\n",
        "ax.plot(n, fit.history['val_loss'], label='val_loss', c='k')\n",
        "\n",
        "ax.set_xlabel('Epoch')\n",
        "ax.set_ylabel('Loss')\n",
        "ax.legend()\n",
        "ax.semilogy()\n",
        "ax.grid()\n",
        "plt.show()"
      ],
      "execution_count": null,
      "outputs": []
    },
    {
      "cell_type": "markdown",
      "metadata": {
        "id": "-3j0ScknMEou"
      },
      "source": [
        "---\n",
        "### Performance of the DNN\n",
        "After training the model, we can use the test set `X_test` to evaluate the performance of the DNN.  \n",
        "\n",
        "Particularly interesting are the resolution and the bias of the method. A bias close to 0 is desirable. A resolution below 3 EeV can be regarded as good."
      ]
    },
    {
      "cell_type": "code",
      "metadata": {
        "id": "aObX1rK3MEov"
      },
      "source": [
        "test_dset = test_dataset.padded_batch(BATCH_SIZE)\n",
        "energy_pred = model.predict(test_dset, batch_size=128, verbose=1, steps=n_test // BATCH_SIZE)[\"energy\"][:,0]\n",
        "energy_test = energy[:n_test - n_test % BATCH_SIZE][:, 0]"
      ],
      "execution_count": null,
      "outputs": []
    },
    {
      "cell_type": "code",
      "metadata": {
        "id": "DZoXjUnDg6pB"
      },
      "source": [
        "diff = energy_pred - energy_test\n",
        "resolution = np.std(diff)\n",
        "plt.figure()\n",
        "plt.hist(diff, bins=100)\n",
        "plt.xlabel('$E_\\mathrm{rec} - E_\\mathrm{true}$')\n",
        "plt.ylabel('# Events')\n",
        "plt.text(0.95, 0.95, '$\\sigma = %.3f$ EeV' % resolution, ha='right', va='top', transform=plt.gca().transAxes)\n",
        "plt.text(0.95, 0.85, '$\\mu = %.1f$ EeV' % diff.mean(), ha='right', va='top', transform=plt.gca().transAxes)\n",
        "plt.grid()\n",
        "plt.xlim(-10, 10)\n",
        "plt.tight_layout()"
      ],
      "execution_count": null,
      "outputs": []
    },
    {
      "cell_type": "markdown",
      "metadata": {
        "id": "xxTIoNH4O9ng"
      },
      "source": [
        "After estimating the bias and the resolution, we can now inspect the reconstruction via a scatter plot.  \n",
        "\n",
        "Furthermore, we can study the energy dependence of the resolution. With increasing energy, the performance increases due to the lower sampling fluctuation of the ground-based particle detectors and the larger footprints."
      ]
    },
    {
      "cell_type": "code",
      "metadata": {
        "id": "RSVhxnNFZ2Ro"
      },
      "source": [
        "x = [3, 10, 30, 100]\n",
        "labels = [\"3\", \"10\", \"30\", \"100\"]\n",
        "\n",
        "diff = energy_pred - energy_test\n",
        "\n",
        "# Embedding plot\n",
        "fig, axes = plt.subplots(1, 2, figsize=(20, 9))\n",
        "axes[0].scatter(energy_test, energy_pred, s=3, alpha=0.60)\n",
        "axes[0].set_xlabel(r\"$E_{true}\\;/\\;\\mathrm{EeV}$\")\n",
        "axes[0].set_ylabel(r\"$E_{DNN}\\;/\\;\\mathrm{EeV}$\")\n",
        "\n",
        "stat_box = r\"$\\mu = $ %.3f\" % np.mean(diff) + \" / EeV\" + \"\\n\" + \"$\\sigma = $ %.3f\" % np.std(diff) + \" / EeV\"\n",
        "axes[0].text(0.95, 0.2, stat_box, verticalalignment=\"top\", horizontalalignment=\"right\",\n",
        "          transform=axes[0].transAxes, backgroundcolor=\"w\")\n",
        "axes[0].plot([np.min(energy_test), np.max(energy_test)],\n",
        "             [np.min(energy_test), np.max(energy_test)], color=\"red\")\n",
        "\n",
        "sns.regplot(x=energy_test, y=diff / energy_test, x_estimator=np.std, x_bins=12,\n",
        "            fit_reg=False, color=\"royalblue\", ax=axes[1])\n",
        "axes[1].tick_params(axis=\"both\", which=\"major\")\n",
        "axes[1].set(xscale=\"log\")\n",
        "plt.xticks(x, labels)\n",
        "\n",
        "axes[1].set_xlabel(r\"$E_{true}\\;/\\;\\mathrm{EeV}$\")\n",
        "axes[1].set_ylabel(r\"$\\sigma_{E}/E$\")\n",
        "axes[1].set_ylim(0, 0.2)\n",
        "plt.show()"
      ],
      "execution_count": null,
      "outputs": []
    }
  ]
}